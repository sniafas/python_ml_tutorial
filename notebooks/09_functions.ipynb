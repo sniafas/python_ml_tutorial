{
 "cells": [
  {
   "cell_type": "markdown",
   "metadata": {},
   "source": [
    "# Functions\n",
    "\n",
    "> A function is a block of organized, reusable code that is used to perform a single, related action. Functions provide better modularity for your application and a high degree of code reusing."
   ]
  },
  {
   "cell_type": "code",
   "execution_count": 1,
   "metadata": {
    "collapsed": true,
    "jupyter": {
     "outputs_hidden": true
    }
   },
   "outputs": [],
   "source": [
    "from __future__ import print_function"
   ]
  },
  {
   "cell_type": "markdown",
   "metadata": {},
   "source": [
    "In the previous tutorials we saw many built-in python functions (like `print()`, `open()`, `sum()` and others).\n",
    "\n",
    "For a function to work, we must first define it. During this procedure we define the name of the function, the function parameters, what the function does and what it returns upon completion.\n",
    "\n",
    "Let's look at an example. We want to find out if a person is old enough to vote or not.\n",
    "\n",
    "First, we'll write the code without the use of functions:"
   ]
  },
  {
   "cell_type": "code",
   "execution_count": 2,
   "metadata": {},
   "outputs": [
    {
     "name": "stdout",
     "output_type": "stream",
     "text": [
      "Sorry. That is not a valid number.\n",
      "Sorry. That is not a valid number.\n",
      "Sorry. That is not a valid number.\n",
      "Sorry this is not a valid age.\n",
      "Sorry. You are too young to vote.\n"
     ]
    }
   ],
   "source": [
    "while True:\n",
    "    age = input('Please enter your age: ')\n",
    "    if age.isdigit():  # check if the age is an integer\n",
    "        age = int(age)\n",
    "        if age > 0 and age < 150:  # condition actually checks only ages over 150 and the age of 0. \n",
    "                                   # negative values are returned as False from the previous condition ( .isdigit() )\n",
    "            if age >= 18:\n",
    "                print('Congratulations! You are old enough to vote!')\n",
    "                break\n",
    "            else:\n",
    "                print('Sorry. You are too young to vote.')\n",
    "                break\n",
    "        else:\n",
    "            print('Sorry this is not a valid age.')\n",
    "    else:\n",
    "        print('Sorry. That is not a valid number.')"
   ]
  },
  {
   "cell_type": "markdown",
   "metadata": {},
   "source": [
    "Say we wanted to write a large program that requires us to check if the person is old enough to vote in more than one places in our code. We could do one of two things. \n",
    "\n",
    "- The first would be to copy and paste the code above wherever we require that functionality.  \n",
    "That is not optimal though, because we would create a really bloated program, with a lot more lines of code than necessary. Large programs are harder to maintain and should be avoided if possible. \n",
    "- The best thing to do is to define a function that checks if a person is old enough to vote and use it when required."
   ]
  },
  {
   "cell_type": "code",
   "execution_count": 1,
   "metadata": {},
   "outputs": [],
   "source": [
    "def voting_privileges(age): # this line defines a function called 'voting_privileges',\n",
    "                            # that takes one argument that is called age.\n",
    "    age = str(age)  # this converts age to a string (so that we can use the same code we wrote above)\n",
    "    result = False  # Default value for the variable which will tell us if the person is able to vote or not.\n",
    "    if age.isdigit():\n",
    "        age = int(age)\n",
    "        if age > 0 and age < 150: \n",
    "            if age >= 18:\n",
    "                print('Congratulations! You are old enough to vote!')\n",
    "                result = True # If the person is able to vote, the flag is set as True. \n",
    "                              # In all other cases the flag remains False\n",
    "            else:\n",
    "                print('Sorry. You are too young to vote.')\n",
    "        else:\n",
    "            print('Sorry this is not a valid age.')\n",
    "    else:\n",
    "        print('Sorry. That is not a valid number.')\n",
    "    return result # This line specifies what variable we want to get returned as the result.\n",
    "    # Note that all the function code is written indented!"
   ]
  },
  {
   "cell_type": "markdown",
   "metadata": {},
   "source": [
    "This function takes a variable, checks if the variable is an integer, checks if the integer is a valid age and then checks if the person with this age would be able to vote. In each case it prints what it thinks about the age (valid/invalid, old enough/too young) and it returns a Boolean value of `True` if the person is indeed old enough (`False` in all other cases).\n",
    "We can call any function by it's name from our main program."
   ]
  },
  {
   "cell_type": "code",
   "execution_count": 2,
   "metadata": {},
   "outputs": [
    {
     "name": "stdout",
     "output_type": "stream",
     "text": [
      "Enter an age: 56\n",
      "Congratulations! You are old enough to vote!\n",
      "Sorry. That is not a valid number.\n",
      "Sorry. That is not a valid number.\n",
      "Sorry. That is not a valid number.\n",
      "Congratulations! You are old enough to vote!\n",
      "Sorry. You are too young to vote.\n"
     ]
    },
    {
     "data": {
      "text/plain": [
       "False"
      ]
     },
     "execution_count": 2,
     "metadata": {},
     "output_type": "execute_result"
    }
   ],
   "source": [
    "my_age1 = input('Enter an age: ')  # 56\n",
    "my_age2 = 33.23\n",
    "my_age3 = -5\n",
    "my_age4 = 'asdf'\n",
    "my_age5 = 19\n",
    "my_age6 = '17'\n",
    "voting_privileges(my_age1)\n",
    "voting_privileges(my_age2)\n",
    "voting_privileges(my_age3)\n",
    "voting_privileges(my_age4)\n",
    "voting_privileges(my_age5)\n",
    "voting_privileges(my_age6)"
   ]
  },
  {
   "cell_type": "markdown",
   "metadata": {},
   "source": [
    "We can also use the value that the function returns."
   ]
  },
  {
   "cell_type": "code",
   "execution_count": 3,
   "metadata": {},
   "outputs": [
    {
     "name": "stdout",
     "output_type": "stream",
     "text": [
      "Congratulations! You are old enough to vote!\n"
     ]
    }
   ],
   "source": [
    "priv = voting_privileges(my_age5)  # priv: True"
   ]
  },
  {
   "cell_type": "code",
   "execution_count": 6,
   "metadata": {
    "collapsed": true,
    "jupyter": {
     "outputs_hidden": true
    }
   },
   "outputs": [],
   "source": [
    "# We can also have a function that doesn't accept any variables or doesn't return anything\n",
    "def print_something():  # no arguments\n",
    "    print('Something!')\n",
    "    # no return statement"
   ]
  },
  {
   "cell_type": "markdown",
   "metadata": {},
   "source": [
    "Functions can use more than one arguments:\n",
    "\n",
    "We want to write a program that checks if a person is old enough to vote (18), drive a car (16), drink alcohol (21), be a representative (25), senator (30) or the president/vice president (35) of the US.\n",
    "\n",
    "Instead of creating six functions (i.e. one for each condition), we could create a generic function in which we would pass two arguments: the person's age and the minimum required age for the privilege that we want to check. This way we only need to create one function, which would differ slightly in the way it is called each time."
   ]
  },
  {
   "cell_type": "code",
   "execution_count": 8,
   "metadata": {
    "collapsed": true,
    "jupyter": {
     "outputs_hidden": true
    }
   },
   "outputs": [],
   "source": [
    "def age_checker(age, threshold):\n",
    "    age = str(age)\n",
    "    result = False\n",
    "    if age.isdigit():\n",
    "        age = int(age)\n",
    "        if age > 0 and age < 150: \n",
    "            if age >= threshold:\n",
    "                result = True\n",
    "        else:\n",
    "            print('Sorry this is not a valid age.')\n",
    "    else:\n",
    "        print('Sorry. That is not a valid number.')\n",
    "    return result"
   ]
  },
  {
   "cell_type": "markdown",
   "metadata": {},
   "source": [
    "Now let's see how we would write the body of our program"
   ]
  },
  {
   "cell_type": "code",
   "execution_count": 10,
   "metadata": {
    "collapsed": true,
    "jupyter": {
     "outputs_hidden": true
    }
   },
   "outputs": [],
   "source": [
    "age = input('Enter an age: ')\n",
    "drive = age_checker(age, 16)  # check if person is old enough to drive\n",
    "vote = age_checker(age, 18)  # check if person is old enough to vote\n",
    "drink = age_checker(age, 21)  # check if person is old enough to drink\n",
    "repres = age_checker(age, 25)  # check if person is old enough to be a representative\n",
    "senat = age_checker(age, 30)  # check if person is old enough to be a senator\n",
    "pres = age_checker(age, 35)  # check if person is old enough to be the (vice) president"
   ]
  },
  {
   "cell_type": "markdown",
   "metadata": {},
   "source": [
    "Let's check what the privileges the person has."
   ]
  },
  {
   "cell_type": "code",
   "execution_count": 11,
   "metadata": {},
   "outputs": [
    {
     "name": "stdout",
     "output_type": "stream",
     "text": [
      "You are legally able to ... do nothing in the US\n"
     ]
    }
   ],
   "source": [
    "print('You are legally able to ', end=\"\") # the end=\"\" argument removes the \\n after each print function\n",
    "if drive:\n",
    "    if vote:\n",
    "        if drink:\n",
    "            if repres:\n",
    "                if senat:\n",
    "                    if pres:\n",
    "                        print('do anything you want to ', end=\"\")\n",
    "                    else:\n",
    "                        print('drive, vote, drink, be a representative and run for senate ', end=\"\")\n",
    "                else:\n",
    "                    print('drive, vote, drink and be a representative ', end=\"\")\n",
    "            else:\n",
    "                print('drive, vote and drink ', end=\"\")\n",
    "        else:\n",
    "                print('drive and vote ', end=\"\")\n",
    "    else:\n",
    "        print('drive ', end=\"\")\n",
    "else:\n",
    "    print('... do nothing ', end=\"\")\n",
    "print('in the US')"
   ]
  },
  {
   "cell_type": "markdown",
   "metadata": {},
   "source": [
    "Another way to do this would be to write a new function that called `age_checker`. This way we create a more elegant main body for our program."
   ]
  },
  {
   "cell_type": "code",
   "execution_count": 13,
   "metadata": {
    "collapsed": true,
    "jupyter": {
     "outputs_hidden": true
    }
   },
   "outputs": [],
   "source": [
    "def us_privileges(age):\n",
    "    age = str(age)\n",
    "    if not age.isdigit(): # check if we entered a valid number\n",
    "        print('Sorry, not a valid number.')\n",
    "        return # With this command we exit the function. Can be used in a similar fashion with the break command in loops\n",
    "    age = int(age)\n",
    "    if (age == 0) or (age >= 150): # check if it is indeed a valid age\n",
    "        print('Sorry, this is not a valid age.')\n",
    "        return\n",
    "    print('You are legally able to ', end=\"\") # the end=\"\" argument removes the \\n after each print function\n",
    "    if age_checker(age,16):  # Here we call a function inside a function.\n",
    "        if age_checker(age,18):\n",
    "            if age_checker(age,21):\n",
    "                if age_checker(age,25):\n",
    "                    if age_checker(age,30):\n",
    "                        if age_checker(age,35):\n",
    "                            print('do anything you want to ', end=\"\")\n",
    "                        else:\n",
    "                            print('drive, vote, drink, be a representative and run for senate ', end=\"\")\n",
    "                    else:\n",
    "                        print('drive, vote, drink and be a representative ', end=\"\")\n",
    "                else:\n",
    "                    print('drive, vote and drink ', end=\"\")\n",
    "            else:\n",
    "                print('drive and vote ', end=\"\")\n",
    "        else:\n",
    "            print('drive ', end=\"\")\n",
    "    else:\n",
    "        print('... do nothing ', end=\"\")\n",
    "    print('in the US.')"
   ]
  },
  {
   "cell_type": "markdown",
   "metadata": {},
   "source": [
    "Now our program's main body would be:"
   ]
  },
  {
   "cell_type": "code",
   "execution_count": 14,
   "metadata": {},
   "outputs": [
    {
     "name": "stdout",
     "output_type": "stream",
     "text": [
      "You are legally able to drive, vote, drink, be a representative and run for senate in the US.\n"
     ]
    }
   ],
   "source": [
    "my_age = input('Enter your age: ') # 34\n",
    "us_privileges(my_age)"
   ]
  },
  {
   "cell_type": "markdown",
   "metadata": {},
   "source": [
    "Notice that even though we defined two functions, the main body of our program is just 2 lines long!\n",
    "\n",
    "Functions make programs more modular. By using functions our programs are easier to maintain. Suppose the law changed in the US allowing teenagers of or above 18 to drink alcohol. If we hadn't used functions would have had to search the whole program and replace each check manually. If we had indeed used functions we would just have had to replace a few lines in the function definition.\n",
    "\n",
    "## Function arguments\n",
    "\n",
    "Now let's look at something more advanced. We already said that print is a python built-in function and we saw a way of passing an extra argument to this function (the end=\"\" argument) to change it's functionality. How can we incorporate this into our own functions?\n",
    "\n",
    "In python there are two types of arguments: **positional arguments** and **keyword arguments**.  \n",
    "- The first type of arguments need to be entered in the same position they appear such as the day and month argument in the previous example.  \n",
    "- Keyword arguments are defined by a keyword (such as the `leap` argument in the previous example) and a value. These arguments don't need to be in a specific order when referenced by their keyword. When not entered they take the default value.\n",
    "\n",
    "\n",
    "```python\n",
    "# Function definition:\n",
    "def function(positional_1, positional_2, keyword_1=default_1, keyword_2=default_2):\n",
    "    # function body\n",
    "```\n",
    "\n",
    "In the function above there are 2 positional and 2 keyword values. When calling the function we **have** to enter the two positional arguments, but **not** the positional ones.\n",
    "\n",
    "```python\n",
    "# Main body of the program:\n",
    "function(val_1, val_2, val_3, val_4)  # keyword_1 = val_3, keyword_2 = val_4\n",
    "function(val_1, val_2, val_4, val_3)  # keyword_1 = val_4, keyword_2 = val_3\n",
    "function(val_1, val_2, keyword_1=val_3, keyword_2=val_4)  # keyword_1 = val_3, keyword_2 = val_4\n",
    "function(val_1, val_2, keyword_2=val_3, keyword_1=val_4)  # keyword_1 = val_4, keyword_2 = val_3\n",
    "function(val_1, val_2, keyword_1=val_3)  # keyword_1 = val_3, keyword_2 = default_2\n",
    "function(val_1, val_2, keyword_2=val_3)  # keyword_1 = default_1, keyword_2 = val_3\n",
    "function(val_1, val_2)  # keyword_1 = default_1, keyword_2 = default_2\n",
    "```\n",
    "\n",
    "This is especially helpful when wanting to create a function that will do a certain thing most of the times, but a few times would do something else.\n",
    "\n",
    "### Example\n",
    "\n",
    "Lets say we want to write a program calculates how many days the year has left. Obviously leap years have one more day than other years, so we need to take that into account. One way would be to require the user to enter the current day, month AND year (and check if that year was a leap year after all). However, we'll try something different. We want the user to just enter the day and month and signify this is a leap year."
   ]
  },
  {
   "cell_type": "code",
   "execution_count": 15,
   "metadata": {
    "collapsed": true,
    "jupyter": {
     "outputs_hidden": true
    }
   },
   "outputs": [],
   "source": [
    "def days_remaining(day, month, leap=False):  # we are using the european date format: dd/mm/yy\n",
    "    # End day is NOT included\n",
    "    if month==1:\n",
    "        rem = 364  # remaining days from 1st January to 31 December in a non leap year\n",
    "        if leap:\n",
    "            rem += 1  # leap years have 1 more day\n",
    "    if month==2:\n",
    "        rem = 333\n",
    "        if leap:\n",
    "            rem += 1\n",
    "    if month==3:\n",
    "        rem = 305  # we have already passed the leap day in March\n",
    "    if month==4:\n",
    "        rem = 274\n",
    "    if month==5:\n",
    "        rem = 244\n",
    "    if month==6:\n",
    "        rem = 213\n",
    "    if month==7:\n",
    "        rem = 183\n",
    "    if month==8:\n",
    "        rem = 152\n",
    "    if month==9:\n",
    "        rem = 121\n",
    "    if month==10:\n",
    "        rem = 91\n",
    "    if month==11:\n",
    "        rem = 60\n",
    "    if month==12:\n",
    "        rem = 30\n",
    "    return rem - day + 1  # +1 because we calculated remaining days from 1st of each month not last day of previous month"
   ]
  },
  {
   "cell_type": "markdown",
   "metadata": {},
   "source": [
    "Here's how we call this function from our program"
   ]
  },
  {
   "cell_type": "code",
   "execution_count": 16,
   "metadata": {},
   "outputs": [
    {
     "name": "stdout",
     "output_type": "stream",
     "text": [
      "242\n",
      "344\n",
      "344\n",
      "343\n"
     ]
    }
   ],
   "source": [
    "print(days_remaining(3,5))  # days remaining from May the 3rd till the end of the year\n",
    "# say this is a leap year (e.g 2016). we need to incorporate this into the calculation\n",
    "print(days_remaining(22, 1, True))\n",
    "print(days_remaining(22, 1, leap=True))  # same thing different syntax\n",
    "# note that the leap argument is completely optional if it has the default value (of a non-leap year)!\n",
    "print(days_remaining(22, 1, False))"
   ]
  },
  {
   "cell_type": "markdown",
   "metadata": {},
   "source": [
    "A function doesn't have to have any positional arguments."
   ]
  },
  {
   "cell_type": "code",
   "execution_count": 17,
   "metadata": {
    "collapsed": true,
    "jupyter": {
     "outputs_hidden": true
    }
   },
   "outputs": [],
   "source": [
    "def remaining_days(day=1, month=1, leap=False):\n",
    "    return days_remaining(day, month, leap) # too lazy to write the function's body again so I'll use the previous one"
   ]
  },
  {
   "cell_type": "markdown",
   "metadata": {},
   "source": [
    "Now we are free to rearrange the arguments as we please"
   ]
  },
  {
   "cell_type": "code",
   "execution_count": 18,
   "metadata": {},
   "outputs": [
    {
     "name": "stdout",
     "output_type": "stream",
     "text": [
      "344\n",
      "344\n",
      "242\n",
      "344\n"
     ]
    }
   ],
   "source": [
    "print(remaining_days(day=22, month=1, leap=True))\n",
    "print(remaining_days(day=22, leap=True))  # month not required because it carries the default value\n",
    "print(remaining_days(month=5, leap=True, day=3))  # we can rearrange the arguments\n",
    "print(remaining_days(22, 1, True))  # or we can use them as positional arguments"
   ]
  },
  {
   "cell_type": "markdown",
   "metadata": {},
   "source": [
    "Positional arguments need to be always positioned **before** the keyword ones: for instance `days_ramaining(leap=True, 22, 1)` would raise a SyntaxError.\n",
    "\n",
    "We can also have **variable-length arguments**:"
   ]
  },
  {
   "cell_type": "code",
   "execution_count": 21,
   "metadata": {},
   "outputs": [
    {
     "name": "stdout",
     "output_type": "stream",
     "text": [
      "Positional: ('one', 'two', 'three')\n",
      "Keywords: {}\n",
      "\n",
      "\n",
      "Positional: ()\n",
      "Keywords: {'a': 'one', 'c': 'three', 'b': 'two'}\n",
      "\n",
      "\n",
      "Positional: ('one', 'two')\n",
      "Keywords: {'c': 'three', 'd': 'four'}\n"
     ]
    }
   ],
   "source": [
    "def foo(*positional, **keywords):\n",
    "    print(\"Positional:\", positional)\n",
    "    print(\"Keywords:\", keywords)\n",
    "    \n",
    "foo('one', 'two', 'three')\n",
    "print('\\n')\n",
    "foo(a='one', b='two', c='three')\n",
    "print('\\n')\n",
    "foo('one', 'two', c='three', d='four')"
   ]
  },
  {
   "cell_type": "markdown",
   "metadata": {},
   "source": [
    "## Anonymous of lambda functions.\n",
    "\n",
    "These functions are declared without using the `def` keyword. They are called anonymous because they are **not bound to a name**.\n",
    "\n",
    "The syntax for defining `lambda` functions in python is: \n",
    "```python\n",
    "lambda arguments: return_value\n",
    "```"
   ]
  },
  {
   "cell_type": "code",
   "execution_count": 2,
   "metadata": {},
   "outputs": [
    {
     "name": "stdout",
     "output_type": "stream",
     "text": [
      "<class 'function'>\n",
      "64\n",
      "81\n",
      "7\n"
     ]
    }
   ],
   "source": [
    "sq = lambda x: x**2\n",
    "print(type(sq))\n",
    "print(sq(8))\n",
    "print(sq(9))\n",
    "add = lambda x, y: x + y\n",
    "print(add(3, 4))"
   ]
  },
  {
   "cell_type": "markdown",
   "metadata": {},
   "source": [
    "## Example - fibonacci\n",
    "\n",
    "Let's try to calculate the n-th number in a Fibonacci sequence, where n is a predefined number of steps.\n",
    "Each number in the sequence is the sum of the previous two numbers.\n",
    "This way we generate the following sequence of integers: \n",
    "\n",
    "$$ 0,1,1,2,3,5,8,13,21,34,55,89, ...$$"
   ]
  },
  {
   "cell_type": "code",
   "execution_count": 46,
   "metadata": {},
   "outputs": [
    {
     "name": "stdout",
     "output_type": "stream",
     "text": [
      "1st way: fib(0) = 0         2nd way: fib(0) =  0\n",
      "1st way: fib(1) = 1         2nd way: fib(1) =  1\n",
      "1st way: fib(2) = 1         2nd way: fib(2) =  1\n",
      "1st way: fib(3) = 2         2nd way: fib(3) =  2\n",
      "1st way: fib(4) = 3         2nd way: fib(4) =  3\n",
      "1st way: fib(5) = 5         2nd way: fib(5) =  5\n",
      "1st way: fib(6) = 8         2nd way: fib(6) =  8\n",
      "1st way: fib(7) = 13        2nd way: fib(7) =  13\n",
      "1st way: fib(8) = 21        2nd way: fib(8) =  21\n",
      "1st way: fib(9) = 34        2nd way: fib(9) =  34\n",
      "                ... and so on                \n"
     ]
    }
   ],
   "source": [
    "# 1st way - Iteration\n",
    "def fib1(n):  # will calculate the sequence and return the n-th element in the Fibonacci sequence\n",
    "    a, b = 0, 1  # we set the values of the first two numbers in the sequence\n",
    "    for i in range(n): # repeat for n steps\n",
    "        a, b = b, a + b  # we set the first number equal to the second one from the previous iteration and\n",
    "                         # the second one equal to the sum of the two numbers of the previous iteration\n",
    "    return a  # return the result\n",
    "\n",
    "\n",
    "# This way is probably the easiest to understand, but there is a second way of doing this using function recursion.\n",
    "# Recursion is when a function keeps calling itself till a condition is met.\n",
    "\n",
    "# 2nd way - Recursion\n",
    "def fib2(n):\n",
    "    if n == 0 or n == 1: # We need to manually return the first two fibonacci numbers: fib(0) = 0 and fib(1) = 1\n",
    "        return n\n",
    "    else:\n",
    "        return fib2(n-1) + fib2(n-2) # This adds the previous two numbers. \n",
    "                                     # Those two numbers are calculated in the same way.\n",
    "                                     # This procedure continues until n reaches 1 and 0.\n",
    "    \n",
    "\n",
    "for x in range(10):\n",
    "    print('{}{:<10}'.format('1st way: fib({}) = '.format(x), fib1(x)), end='')\n",
    "    print('2nd way: fib({}) = '.format(x), fib2(x))\n",
    "print('{:^45}'.format('... and so on'))"
   ]
  }
 ],
 "metadata": {
  "kernelspec": {
   "display_name": "Python 3",
   "language": "python",
   "name": "python3"
  },
  "language_info": {
   "codemirror_mode": {
    "name": "ipython",
    "version": 3
   },
   "file_extension": ".py",
   "mimetype": "text/x-python",
   "name": "python",
   "nbconvert_exporter": "python",
   "pygments_lexer": "ipython3",
   "version": "3.6.4"
  }
 },
 "nbformat": 4,
 "nbformat_minor": 4
}
